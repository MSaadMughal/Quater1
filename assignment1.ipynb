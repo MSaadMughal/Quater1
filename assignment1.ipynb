{
 "cells": [
  {
   "cell_type": "code",
   "execution_count": 1,
   "metadata": {},
   "outputs": [
    {
     "name": "stdout",
     "output_type": "stream",
     "text": [
      "Enter radius5\n",
      "78.5\n"
     ]
    }
   ],
   "source": [
    "pi = 3.14\n",
    "r = float(input(\"Enter radius\"))\n",
    "a = pi*r*r\n",
    "print(a)\n"
   ]
  },
  {
   "cell_type": "code",
   "execution_count": 2,
   "metadata": {},
   "outputs": [
    {
     "name": "stdout",
     "output_type": "stream",
     "text": [
      "Enter a number5\n",
      "the number is positive\n"
     ]
    }
   ],
   "source": [
    "\n",
    "a = int(input(\"Enter a number\"))\n",
    "if a > 0:\n",
    "    print(\"the number is positive\")\n",
    "elif a < 0:\n",
    "    print(\"The number is negative\")\n",
    "else :\n",
    "    print(\"the number is zero\")\n"
   ]
  },
  {
   "cell_type": "code",
   "execution_count": 3,
   "metadata": {},
   "outputs": [
    {
     "name": "stdout",
     "output_type": "stream",
     "text": [
      "Enter a number4\n",
      "Enter another number4\n",
      "the numbers are divisible\n"
     ]
    }
   ],
   "source": [
    "a = int(input(\"Enter a number\"))\n",
    "b = int(input(\"Enter another number\"))\n",
    "c= a%b\n",
    "if c==0:\n",
    "    print(\"the numbers are divisible\")\n",
    "else :\n",
    "    print(\"Numbers are not divisible\")\n"
   ]
  },
  {
   "cell_type": "code",
   "execution_count": 4,
   "metadata": {},
   "outputs": [
    {
     "name": "stdout",
     "output_type": "stream",
     "text": [
      "Enter radius5\n",
      "523.3333333333334\n"
     ]
    }
   ],
   "source": [
    "pi = 3.14\n",
    "r = float(input(\"Enter radius\"))\n",
    "v = 4*pi*r*r*r/3\n",
    "print(v)\n"
   ]
  },
  {
   "cell_type": "code",
   "execution_count": 5,
   "metadata": {},
   "outputs": [
    {
     "name": "stdout",
     "output_type": "stream",
     "text": [
      "Enter a stringsaad is a good boy\n",
      "Enter how many times do you want it copied3\n",
      "saad is a good boy\n",
      "saad is a good boy\n",
      "saad is a good boy\n"
     ]
    }
   ],
   "source": [
    "a = input(\"Enter a string\")\n",
    "b = int(input(\"Enter how many times do you want it copied\"))\n",
    "x =0\n",
    "while x != b:\n",
    "    print(a)\n",
    "    x= x+1\n"
   ]
  },
  {
   "cell_type": "code",
   "execution_count": 6,
   "metadata": {},
   "outputs": [
    {
     "name": "stdout",
     "output_type": "stream",
     "text": [
      "Enter a number5\n",
      "number is odd\n"
     ]
    }
   ],
   "source": [
    "a = int(input(\"Enter a number\"))\n",
    "if a%2 ==0:\n",
    "    print(\"number is even\")\n",
    "else :\n",
    "    print(\"number is odd\")\n"
   ]
  },
  {
   "cell_type": "code",
   "execution_count": 9,
   "metadata": {},
   "outputs": [
    {
     "name": "stdout",
     "output_type": "stream",
     "text": [
      "Enter a charatere\n",
      "this is a vowel\n"
     ]
    }
   ],
   "source": [
    "\n",
    "a = ['a' , 'e' , 'i' , 'o' , 'u' ]\n",
    "v = input(\"Enter a charater\")\n",
    "c= 0\n",
    "for x in a:\n",
    "    if x == v:\n",
    "        c = \"y\"\n",
    "if c==\"y\":\n",
    "    print(\"this is a vowel\")\n",
    "else:\n",
    "    print(\"this isn't a vowel\")\n",
    "\n"
   ]
  },
  {
   "cell_type": "code",
   "execution_count": 10,
   "metadata": {},
   "outputs": [
    {
     "name": "stdout",
     "output_type": "stream",
     "text": [
      "Enter base of triangle4\n",
      "Enter height of triangle6\n",
      "12.0\n"
     ]
    }
   ],
   "source": [
    "\n",
    "b = float(input(\"Enter base of triangle\"))\n",
    "h = float(input(\"Enter height of triangle\"))\n",
    "a = 0.5*b*h\n",
    "print(a)"
   ]
  },
  {
   "cell_type": "code",
   "execution_count": 11,
   "metadata": {},
   "outputs": [
    {
     "name": "stdout",
     "output_type": "stream",
     "text": [
      "Enter principle amount2345\n",
      "Enter rate of interest22\n",
      "Enter number of years2\n",
      "1240505.0\n"
     ]
    }
   ],
   "source": [
    "\n",
    "p = float(input(\"Enter principle amount\"))\n",
    "r = float(input(\"Enter rate of interest\"))\n",
    "y = float(input(\"Enter number of years\"))\n",
    "f = p*(1+r)**y\n",
    "print(f)\n"
   ]
  },
  {
   "cell_type": "code",
   "execution_count": 12,
   "metadata": {},
   "outputs": [
    {
     "name": "stdout",
     "output_type": "stream",
     "text": [
      "enter x1 co-ordinate4\n",
      "enter x2 co ordinate5\n",
      "enter y1 co ordinate7\n",
      "enter y2 co ordinate8\n",
      "1.4142135623730951\n"
     ]
    }
   ],
   "source": [
    "\n",
    "import math\n",
    "x1 = float(input(\"enter x1 co-ordinate\"))\n",
    "x2 = float(input(\"enter x2 co ordinate\"))\n",
    "y1 = float(input(\"enter y1 co ordinate\"))\n",
    "y2 = float(input(\"enter y2 co ordinate\"))\n",
    "d1 = x1 - x2\n",
    "d1 = d1**2\n",
    "d2 = y1 - y2\n",
    "d2 = d2**2\n",
    "f = math.sqrt(d1+d2)\n",
    "print(f)"
   ]
  },
  {
   "cell_type": "code",
   "execution_count": 13,
   "metadata": {},
   "outputs": [
    {
     "name": "stdout",
     "output_type": "stream",
     "text": [
      "Enter height in feet44\n",
      "1341.1200000000001\n"
     ]
    }
   ],
   "source": [
    "a = float(input(\"Enter height in feet\"))\n",
    "c = a*30.48\n",
    "print(c)\n"
   ]
  },
  {
   "cell_type": "code",
   "execution_count": 14,
   "metadata": {},
   "outputs": [
    {
     "name": "stdout",
     "output_type": "stream",
     "text": [
      "enter weight in kgs33\n",
      "enter height in ms5\n",
      "1.32\n"
     ]
    }
   ],
   "source": [
    "w = float(input(\"enter weight in kgs\"))\n",
    "h = float(input(\"enter height in ms\"))\n",
    "bmi = w/(h**2)\n",
    "print(bmi)\n"
   ]
  },
  {
   "cell_type": "code",
   "execution_count": 15,
   "metadata": {},
   "outputs": [
    {
     "name": "stdout",
     "output_type": "stream",
     "text": [
      "enter number till which sum is required4\n",
      "10\n"
     ]
    }
   ],
   "source": [
    "\n",
    "sum = 0\n",
    "n = int(input(\"enter number till which sum is required\"))\n",
    "for x in range(n+1):\n",
    "    sum = sum + x\n",
    "print(sum)    \n",
    "\n"
   ]
  },
  {
   "cell_type": "code",
   "execution_count": 18,
   "metadata": {},
   "outputs": [
    {
     "name": "stdout",
     "output_type": "stream",
     "text": [
      "enter final date in dd/mm/yyyy format11\n",
      "enter final date in dd/mm/yyyy format8\n",
      "enter final date in dd/mm/yyyy format2019\n",
      "enter inital date in dd/mm/yyyy format22\n",
      "enter inital date in dd/mm/yyyy format8\n",
      "enter inital date in dd/mm/yyyy format2019\n",
      "-11\n"
     ]
    }
   ],
   "source": [
    "a = []\n",
    "b = []\n",
    "n=0\n",
    "m=0\n",
    "while n <3:\n",
    "    a.append(int(input(\"enter final date in dd/mm/yyyy format\")))\n",
    "    n=n+1\n",
    "while m <3:\n",
    "    b.append(int(input(\"enter inital date in dd/mm/yyyy format\")))\n",
    "    m=m+1   \n",
    "y = (a[2]-b[2])*365\n",
    "m = (a[1]-b[1])*30\n",
    "d = a[0]-b[0]\n",
    "total = d+y+m\n",
    "print(total)\n"
   ]
  },
  {
   "cell_type": "code",
   "execution_count": null,
   "metadata": {},
   "outputs": [],
   "source": []
  },
  {
   "cell_type": "code",
   "execution_count": null,
   "metadata": {},
   "outputs": [],
   "source": []
  }
 ],
 "metadata": {
  "kernelspec": {
   "display_name": "Python 3",
   "language": "python",
   "name": "python3"
  },
  "language_info": {
   "codemirror_mode": {
    "name": "ipython",
    "version": 3
   },
   "file_extension": ".py",
   "mimetype": "text/x-python",
   "name": "python",
   "nbconvert_exporter": "python",
   "pygments_lexer": "ipython3",
   "version": "3.7.3"
  }
 },
 "nbformat": 4,
 "nbformat_minor": 2
}
